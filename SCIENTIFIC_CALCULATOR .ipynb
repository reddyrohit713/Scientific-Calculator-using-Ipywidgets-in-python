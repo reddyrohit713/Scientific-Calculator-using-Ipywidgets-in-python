{
 "cells": [
  {
   "cell_type": "markdown",
   "id": "04719687",
   "metadata": {},
   "source": [
    "## Scientific Calculator"
   ]
  },
  {
   "cell_type": "code",
   "execution_count": 18,
   "id": "f09aa5d6",
   "metadata": {},
   "outputs": [
    {
     "data": {
      "application/vnd.jupyter.widget-view+json": {
       "model_id": "4fa5bd61ce094f1fa789926dfa3c736f",
       "version_major": 2,
       "version_minor": 0
      },
      "text/plain": [
       "Tab(children=(VBox(children=(HBox(children=(Text(value=''), Text(value=''))), HBox(children=(Button(descriptio…"
      ]
     },
     "metadata": {},
     "output_type": "display_data"
    }
   ],
   "source": [
    "import ipywidgets as w\n",
    "from math import *\n",
    "a = w.Text()\n",
    "c = w.Text()\n",
    "H_box = w.HBox([a, c])\n",
    "buttoncl = w.Button(description=\"<-\")\n",
    "buttonb1 = w.Button(description=\"(\")\n",
    "buttonb2 = w.Button(description=\")\")\n",
    "button7 = w.Button(description=\"7\")\n",
    "button8 = w.Button(description=\"8\")\n",
    "button9 = w.Button(description=\"9\")\n",
    "buttonac = w.Button(description=\"Ac\")\n",
    "H_boxcl = w.HBox([buttoncl,buttonb1,buttonb2])\n",
    "H_box1 = w.HBox([button7, button8, button9, buttonac])\n",
    "\n",
    "button4 = w.Button(description=\"4\")\n",
    "button5 = w.Button(description=\"5\")\n",
    "button6 = w.Button(description=\"6\")\n",
    "buttone = w.Button(description=\"=\")\n",
    "H_box2 = w.HBox([button4, button5, button6, buttone])\n",
    "\n",
    "button1 = w.Button(description=\"1\")\n",
    "button2 = w.Button(description=\"2\")\n",
    "button3 = w.Button(description=\"3\")\n",
    "buttonp = w.Button(description=\"+\")\n",
    "H_box3 = w.HBox([button1, button2, button3, buttonp])\n",
    "\n",
    "buttonm = w.Button(description=\"*\")\n",
    "button0 = w.Button(description=\"0\")\n",
    "buttons = w.Button(description=\"-\")\n",
    "buttond = w.Button(description=\"/\")\n",
    "H_box4 = w.HBox([buttonm, button0, buttons, buttond])\n",
    "button_sin = w.Button(description=\"sin\")\n",
    "button_cos = w.Button(description=\"cos\")\n",
    "button_tan = w.Button(description=\"tan\")\n",
    "button_exp = w.Button(description=\"exp\")\n",
    "button_log = w.Button(description=\"log\")\n",
    "button_sqrt = w.Button(description=\"sqrt\")\n",
    "button_square = w.Button(description=\"^\")\n",
    "button_percent = w.Button(description=\"%\")\n",
    "H_box6 = w.HBox([button_sin, button_cos, button_tan, button_exp])\n",
    "H_box5 = w.HBox([button_log, button_sqrt, button_square, button_percent])\n",
    "cal = w.VBox([H_box, H_boxcl, H_box1, H_box2, H_box3, H_box4,H_box6, H_box5])\n",
    "tab = w.Tab([cal])\n",
    "tab.set_title(0, \"Calculator\")\n",
    "display(tab)\n",
    "def on_backspace_click(b):\n",
    "    a.value = a.value[:-1]\n",
    "\n",
    "def on_button_click(b):\n",
    "    a.value += b.description\n",
    "\n",
    "def on_clear_click(self):\n",
    "    a.value = ''\n",
    "    c.value = \" \"\n",
    "\n",
    "def on_equal_click(self):\n",
    "    try:\n",
    "        s = eval(\"{}\".format(a.value))\n",
    "        c.value = str(s)\n",
    "    except Exception as e:\n",
    "        a.value = 'Err'\n",
    "\n",
    "def on_function_click(b):\n",
    "    a.value += f\"{b.description}(\"\n",
    "\n",
    "def on_square_click(b):\n",
    "    a.value += \"\"\n",
    "\n",
    "def on_percent_click(b):\n",
    "    try:\n",
    "        s = eval(\"{}\".format(a.value)) / 100\n",
    "        c.value = str(s)\n",
    "    except Exception as e:\n",
    "        a.value = 'Err'\n",
    "button7.on_click(on_button_click)\n",
    "button8.on_click(on_button_click)\n",
    "button9.on_click(on_button_click)\n",
    "button4.on_click(on_button_click)\n",
    "button5.on_click(on_button_click)\n",
    "button6.on_click(on_button_click)\n",
    "button1.on_click(on_button_click)\n",
    "button2.on_click(on_button_click)\n",
    "button3.on_click(on_button_click)\n",
    "button0.on_click(on_button_click)\n",
    "buttonp.on_click(on_button_click)\n",
    "buttons.on_click(on_button_click)\n",
    "buttonm.on_click(on_button_click)\n",
    "buttond.on_click(on_button_click)\n",
    "buttonb1.on_click(on_button_click)\n",
    "buttonb2.on_click(on_button_click)\n",
    "buttonac.on_click(on_clear_click)\n",
    "buttone.on_click(on_equal_click)\n",
    "buttoncl.on_click(on_backspace_click)\n",
    "button_sin.on_click(on_function_click)\n",
    "button_cos.on_click(on_function_click)\n",
    "button_tan.on_click(on_function_click)\n",
    "button_exp.on_click(on_function_click)\n",
    "button_log.on_click(on_function_click)\n",
    "button_sqrt.on_click(on_function_click)\n",
    "button_square.on_click(on_square_click)\n",
    "button_percent.on_click(on_percent_click)"
   ]
  },
  {
   "cell_type": "code",
   "execution_count": null,
   "id": "fca1aa39",
   "metadata": {},
   "outputs": [],
   "source": []
  }
 ],
 "metadata": {
  "kernelspec": {
   "display_name": "Python 3 (ipykernel)",
   "language": "python",
   "name": "python3"
  },
  "language_info": {
   "codemirror_mode": {
    "name": "ipython",
    "version": 3
   },
   "file_extension": ".py",
   "mimetype": "text/x-python",
   "name": "python",
   "nbconvert_exporter": "python",
   "pygments_lexer": "ipython3",
   "version": "3.11.5"
  }
 },
 "nbformat": 4,
 "nbformat_minor": 5
}
